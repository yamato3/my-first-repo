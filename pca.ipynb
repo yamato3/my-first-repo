{
 "cells": [
  {
   "cell_type": "code",
   "execution_count": 56,
   "id": "ae30525a-9366-4006-aa34-5a48fc654014",
   "metadata": {},
   "outputs": [],
   "source": [
    "import pandas as pd\n",
    "import seaborn as sns\n",
    "from sklearn.preprocessing import StandardScaler\n",
    "from sklearn.decomposition import PCA\n",
    "import numpy as np\n",
    "import matplotlib.pyplot as plt\n",
    "from mpl_toolkits.mplot3d import Axes3D\n",
    "%matplotlib inline"
   ]
  },
  {
   "cell_type": "code",
   "execution_count": 57,
   "id": "9d6a13e5-b3f9-45a6-98a0-540e574b460d",
   "metadata": {},
   "outputs": [
    {
     "data": {
      "text/html": [
       "<div>\n",
       "<style scoped>\n",
       "    .dataframe tbody tr th:only-of-type {\n",
       "        vertical-align: middle;\n",
       "    }\n",
       "\n",
       "    .dataframe tbody tr th {\n",
       "        vertical-align: top;\n",
       "    }\n",
       "\n",
       "    .dataframe thead th {\n",
       "        text-align: right;\n",
       "    }\n",
       "</style>\n",
       "<table border=\"1\" class=\"dataframe\">\n",
       "  <thead>\n",
       "    <tr style=\"text-align: right;\">\n",
       "      <th></th>\n",
       "      <th>sepal_length</th>\n",
       "      <th>sepal_width</th>\n",
       "      <th>petal_length</th>\n",
       "      <th>petal_width</th>\n",
       "      <th>species</th>\n",
       "    </tr>\n",
       "  </thead>\n",
       "  <tbody>\n",
       "    <tr>\n",
       "      <th>0</th>\n",
       "      <td>5.1</td>\n",
       "      <td>3.5</td>\n",
       "      <td>1.4</td>\n",
       "      <td>0.2</td>\n",
       "      <td>setosa</td>\n",
       "    </tr>\n",
       "    <tr>\n",
       "      <th>1</th>\n",
       "      <td>4.9</td>\n",
       "      <td>3.0</td>\n",
       "      <td>1.4</td>\n",
       "      <td>0.2</td>\n",
       "      <td>setosa</td>\n",
       "    </tr>\n",
       "    <tr>\n",
       "      <th>2</th>\n",
       "      <td>4.7</td>\n",
       "      <td>3.2</td>\n",
       "      <td>1.3</td>\n",
       "      <td>0.2</td>\n",
       "      <td>setosa</td>\n",
       "    </tr>\n",
       "    <tr>\n",
       "      <th>3</th>\n",
       "      <td>4.6</td>\n",
       "      <td>3.1</td>\n",
       "      <td>1.5</td>\n",
       "      <td>0.2</td>\n",
       "      <td>setosa</td>\n",
       "    </tr>\n",
       "    <tr>\n",
       "      <th>4</th>\n",
       "      <td>5.0</td>\n",
       "      <td>3.6</td>\n",
       "      <td>1.4</td>\n",
       "      <td>0.2</td>\n",
       "      <td>setosa</td>\n",
       "    </tr>\n",
       "  </tbody>\n",
       "</table>\n",
       "</div>"
      ],
      "text/plain": [
       "   sepal_length  sepal_width  petal_length  petal_width species\n",
       "0           5.1          3.5           1.4          0.2  setosa\n",
       "1           4.9          3.0           1.4          0.2  setosa\n",
       "2           4.7          3.2           1.3          0.2  setosa\n",
       "3           4.6          3.1           1.5          0.2  setosa\n",
       "4           5.0          3.6           1.4          0.2  setosa"
      ]
     },
     "execution_count": 57,
     "metadata": {},
     "output_type": "execute_result"
    }
   ],
   "source": [
    "df = sns.load_dataset('iris')\n",
    "df.head()"
   ]
  },
  {
   "cell_type": "code",
   "execution_count": 46,
   "id": "967dae72-f3c0-4ba7-afad-c7f31b542f18",
   "metadata": {},
   "outputs": [],
   "source": [
    "# 特徴量と目的変数を分離\n",
    "X = df.loc[:, df.columns!='species']\n",
    "y = df['species'].values\n",
    "# 標準化\n",
    "X = StandardScaler().fit_transform(X)"
   ]
  },
  {
   "cell_type": "code",
   "execution_count": 28,
   "id": "a47c21ed-ee11-4dcd-9170-ea2346a11008",
   "metadata": {},
   "outputs": [],
   "source": [
    "pca = PCA(n_components=2)\n",
    "pca.fit(X)\n",
    "X_pc = pca.transform(X)"
   ]
  },
  {
   "cell_type": "code",
   "execution_count": 32,
   "id": "db68d202-3f34-4432-9f2a-01f52400f5e0",
   "metadata": {},
   "outputs": [],
   "source": [
    "y = y.reshape(-1, 1)\n",
    "df_pc = pd.DataFrame(np.concatenate([X_pc, y], axis=1), \n",
    "                     columns=['first component', 'second component', 'species']).astype({'first component':float, 'second component':float})"
   ]
  },
  {
   "cell_type": "code",
   "execution_count": 43,
   "id": "c98c679d-453c-43b5-9da4-662a7cddc36a",
   "metadata": {},
   "outputs": [
    {
     "data": {
      "text/plain": [
       "matplotlib.axes._subplots.AxesSubplot"
      ]
     },
     "execution_count": 43,
     "metadata": {},
     "output_type": "execute_result"
    },
    {
     "data": {
      "image/png": "[encoded data removed]",
      "text/plain": [
       "<Figure size 432x288 with 1 Axes>"
      ]
     },
     "metadata": {
      "needs_background": "light"
     },
     "output_type": "display_data"
    }
   ],
   "source": [
    "fig, axes = plt.subplots()\n",
    "type(sns.scatterplot(x='first component', y='second component', hue=df_pc['species'], data=df_pc, ax=axes))"
   ]
  },
  {
   "cell_type": "code",
   "execution_count": 17,
   "id": "84a52651-feb0-4c17-86f1-339a2f83cc05",
   "metadata": {},
   "outputs": [
    {
     "data": {
      "text/plain": [
       "array([0.72962445, 0.22850762, 0.03668922, 0.00517871])"
      ]
     },
     "execution_count": 17,
     "metadata": {},
     "output_type": "execute_result"
    }
   ],
   "source": [
    "pca = PCA(n_components=4)\n",
    "pca.fit(X)\n",
    "# 寄与率\n",
    "pca.explained_variance_ratio_"
   ]
  },
  {
   "cell_type": "code",
   "execution_count": 18,
   "id": "f1697306-81fd-4c15-ad24-3435bef26c28",
   "metadata": {},
   "outputs": [
    {
     "data": {
      "text/plain": [
       "array([0.72962445, 0.95813207, 0.99482129, 1.        ])"
      ]
     },
     "execution_count": 18,
     "metadata": {},
     "output_type": "execute_result"
    }
   ],
   "source": [
    "np.cumsum(pca.explained_variance_ratio_)"
   ]
  },
  {
   "cell_type": "code",
   "execution_count": 19,
   "id": "72c395c0-4bdc-4782-85d9-70086b7e45ab",
   "metadata": {},
   "outputs": [
    {
     "data": {
      "text/plain": [
       "Text(0, 0.5, 'cumulative explained variance')"
      ]
     },
     "execution_count": 19,
     "metadata": {},
     "output_type": "execute_result"
    },
    {
     "data": {
      "image/png": "[encoded data removed]",
      "text/plain": [
       "<Figure size 432x288 with 1 Axes>"
      ]
     },
     "metadata": {
      "needs_background": "light"
     },
     "output_type": "display_data"
    }
   ],
   "source": [
    "n_components = 4\n",
    "plt.plot(range(1, n_components+1), np.cumsum(pca.explained_variance_ratio_))\n",
    "plt.xticks(range(1, n_components+1))\n",
    "plt.xlabel('components')\n",
    "plt.xlabel('components')\n",
    "plt.ylabel('cumulative explained variance')"
   ]
  },
  {
   "cell_type": "code",
   "execution_count": null,
   "id": "dfb809f0-d8bc-4fe8-a814-6605ed7e2f42",
   "metadata": {},
   "outputs": [],
   "source": [
    "いるリストのローリングしたdfを作る\n",
    "↓\n"
   ]
  },
  {
   "cell_type": "code",
   "execution_count": 21,
   "id": "289ec373-7c57-4702-a282-b4eba027b71a",
   "metadata": {},
   "outputs": [],
   "source": [
    "def do_pca(df, n_components=2):\n",
    "    \"\"\"\n",
    "    データフレームをPCAした結果のインスタンスを返す\n",
    "    \n",
    "    paramaters:\n",
    "    -------------\n",
    "    df(DataFrame):PCAをしたいデータフレーム(標準化の必要なし)\n",
    "    n_components:次元削減後の次元数\n",
    "    \n",
    "    returns:\n",
    "    ------------\n",
    "    pca: pcaインスタンス\n",
    "    \"\"\"\n",
    "    \n",
    "    df = StandardScaler().fit_transform(df)  # 標準化\n",
    "    pca = PCA(n_components=n_components)\n",
    "    pca.fit(df)\n",
    "    \n",
    "    return pca"
   ]
  },
  {
   "cell_type": "code",
   "execution_count": 88,
   "id": "41f96559-bf3e-428b-ae58-8f5ccb60dcea",
   "metadata": {},
   "outputs": [],
   "source": [
    "def pca_scatter_plot(df, n_components=2, hue=None):\n",
    "    \"\"\"\n",
    "    データフレームを主成分分析した結果を散布図表示する\n",
    "    \n",
    "    paramaters:\n",
    "    ----------------\n",
    "    df(DataFrame): 主成分分析するデータフレーム\n",
    "    n_components(int): 次元削減後の次元数(2または３のみ可)\n",
    "    hue（Series):　ヒュー\n",
    "    \n",
    "    returns:\n",
    "    ---------------\n",
    "    \"\"\"\n",
    "    \n",
    "    \n",
    "    # pca = do_pca(df.copy(), n_components)\n",
    "    df = StandardScaler().fit_transform(df)  # 標準化\n",
    "    pca = PCA(n_components=n_components)\n",
    "    pca.fit(df)\n",
    "    pcs = pca.transform(df)  # 主成分得点(PCS)の算出\n",
    "    \n",
    "    if n_components == 2:\n",
    "        fig, ax = plt.subplots()\n",
    "        df_pc = pd.DataFrame(pcs,columns=['first component', 'second component']).astype({'first component':float, 'second component':float})\n",
    "        sns.scatterplot(x='first component', y='second component', hue=hue, data=df_pc, ax=ax)\n",
    "    elif n_components == 3:\n",
    "        # fig, axes = plt.subplots(subplot_kw=dict(projection='3d'))\n",
    "        df_pc = pd.DataFrame(pcs,columns=['first component', 'second component', \"third component\"]).astype({'first component':float, 'second component':float, \"third component\":float})\n",
    "        # axes.scatter(\"first component\", 'second component',  \"third component\", hue=hue, data=df_pc)\n",
    "        fig = plt.figure(figsize=(15, 15))\n",
    "        ax = fig.add_subplot(projection = '3d')\n",
    "        ax.scatter(xs=\"first component\", ys='second component', zs=\"third component\", data=df_pc, c=hue)\n",
    "        ax.set_xlabel(df_pc.columns[0])\n",
    "        ax.set_ylabel(df_pc.columns[1])\n",
    "        ax.set_zlabel(df_pc.columns[2])\n",
    "        plt.close()\n",
    "        \n",
    "    return fig"
   ]
  },
  {
   "cell_type": "code",
   "execution_count": 92,
   "id": "e1c53dd1-c4fd-4d1c-bf64-dcd73aa65db3",
   "metadata": {},
   "outputs": [],
   "source": [
    "def view_explained_variance(df, n_components):\n",
    "    \"\"\"\n",
    "    \n",
    "    \"\"\"\n",
    "    \n",
    "    df = StandardScaler().fit_transform(df)  # 標準化\n",
    "    pca = PCA(n_components=n_components)\n",
    "    pca.fit(df)\n",
    "    pcs = pca.transform(df)  # 主成分得点(PCS)の算出\n",
    "    \n",
    "    \n",
    "    plt.plot(range(1, n_components+1), np.cumsum(pca.explained_variance_ratio_))\n",
    "    plt.xticks(range(1, n_components+1))\n",
    "    plt.xlabel('components')\n",
    "    plt.xlabel('components')\n",
    "    plt.ylabel('cumulative explained variance')"
   ]
  },
  {
   "cell_type": "code",
   "execution_count": null,
   "id": "66e8a54d-8ca4-48f2-ad27-52005a739c66",
   "metadata": {},
   "outputs": [],
   "source": []
  },
  {
   "cell_type": "code",
   "execution_count": 93,
   "id": "4f54b999-2af3-4005-ab15-4a2fd4be7a20",
   "metadata": {},
   "outputs": [
    {
     "data": {
      "image/png": "[encoded data removed]",
      "text/plain": [
       "<Figure size 432x288 with 1 Axes>"
      ]
     },
     "metadata": {
      "needs_background": "light"
     },
     "output_type": "display_data"
    }
   ],
   "source": [
    "X = df.loc[:, df.columns!='species']\n",
    "y = df[\"species\"]\n",
    "y = pd.get_dummies(y)\n",
    "# display(pca_scatter_plot(X, 3,y))\n",
    "view_explained_variance(X, 4)"
   ]
  },
  {
   "cell_type": "code",
   "execution_count": 96,
   "id": "9952b5e9-b887-4612-ba79-73c2aad255d2",
   "metadata": {},
   "outputs": [],
   "source": [
    "from sklearn.model_selection import train_test_split\n",
    "import xgboost\n",
    "from xgboost import XGBRegressor"
   ]
  },
  {
   "cell_type": "code",
   "execution_count": 102,
   "id": "62dfd0a4-14d7-4066-af7c-2ca1ceaf9bc8",
   "metadata": {},
   "outputs": [
    {
     "name": "stderr",
     "output_type": "stream",
     "text": [
      "/opt/anaconda3/lib/python3.9/site-packages/sklearn/utils/deprecation.py:87: FutureWarning: Function load_boston is deprecated; `load_boston` is deprecated in 1.0 and will be removed in 1.2.\n",
      "\n",
      "    The Boston housing prices dataset has an ethical problem. You can refer to\n",
      "    the documentation of this function for further details.\n",
      "\n",
      "    The scikit-learn maintainers therefore strongly discourage the use of this\n",
      "    dataset unless the purpose of the code is to study and educate about\n",
      "    ethical issues in data science and machine learning.\n",
      "\n",
      "    In this special case, you can fetch the dataset from the original\n",
      "    source::\n",
      "\n",
      "        import pandas as pd\n",
      "        import numpy as np\n",
      "\n",
      "\n",
      "        data_url = \"http://lib.stat.cmu.edu/datasets/boston\"\n",
      "        raw_df = pd.read_csv(data_url, sep=\"\\s+\", skiprows=22, header=None)\n",
      "        data = np.hstack([raw_df.values[::2, :], raw_df.values[1::2, :2]])\n",
      "        target = raw_df.values[1::2, 2]\n",
      "\n",
      "    Alternative datasets include the California housing dataset (i.e.\n",
      "    :func:`~sklearn.datasets.fetch_california_housing`) and the Ames housing\n",
      "    dataset. You can load the datasets as follows::\n",
      "\n",
      "        from sklearn.datasets import fetch_california_housing\n",
      "        housing = fetch_california_housing()\n",
      "\n",
      "    for the California housing dataset and::\n",
      "\n",
      "        from sklearn.datasets import fetch_openml\n",
      "        housing = fetch_openml(name=\"house_prices\", as_frame=True)\n",
      "\n",
      "    for the Ames housing dataset.\n",
      "    \n",
      "  warnings.warn(msg, category=FutureWarning)\n"
     ]
    }
   ],
   "source": [
    "#ボストン住宅価格データセットの読み込み\n",
    "from sklearn.datasets import load_boston\n",
    "boston = load_boston()\n",
    "#説明変数\n",
    "X_array = boston.data\n",
    "#目的変数\n",
    "y_array = boston.target"
   ]
  },
  {
   "cell_type": "code",
   "execution_count": 106,
   "id": "116da2fb-d1a1-42c3-9ac8-7c50902f1898",
   "metadata": {},
   "outputs": [],
   "source": [
    "X_train, X_test, y_train, y_test = train_test_split(X_array, y_array, test_size=0.3)"
   ]
  },
  {
   "cell_type": "code",
   "execution_count": 107,
   "id": "373e3f1e-0224-4d28-a6cf-f34195c1ed9c",
   "metadata": {},
   "outputs": [],
   "source": [
    "model = XGBRegressor(early_stopping_rounds=10)"
   ]
  },
  {
   "cell_type": "code",
   "execution_count": 108,
   "id": "73e02367-0983-4f21-bcdf-f0e037a1583e",
   "metadata": {},
   "outputs": [
    {
     "name": "stdout",
     "output_type": "stream",
     "text": [
      "[0]\tvalidation_0-rmse:16.59420\n",
      "[1]\tvalidation_0-rmse:12.35089\n",
      "[2]\tvalidation_0-rmse:9.31704\n",
      "[3]\tvalidation_0-rmse:7.26316\n",
      "[4]\tvalidation_0-rmse:5.89411\n",
      "[5]\tvalidation_0-rmse:5.01204\n",
      "[6]\tvalidation_0-rmse:4.41361\n",
      "[7]\tvalidation_0-rmse:4.18008\n",
      "[8]\tvalidation_0-rmse:3.94905\n",
      "[9]\tvalidation_0-rmse:3.85554\n",
      "[10]\tvalidation_0-rmse:3.81010\n",
      "[11]\tvalidation_0-rmse:3.74718\n",
      "[12]\tvalidation_0-rmse:3.71329\n",
      "[13]\tvalidation_0-rmse:3.73444\n",
      "[14]\tvalidation_0-rmse:3.71647\n",
      "[15]\tvalidation_0-rmse:3.68897\n",
      "[16]\tvalidation_0-rmse:3.68969\n",
      "[17]\tvalidation_0-rmse:3.68117\n",
      "[18]\tvalidation_0-rmse:3.66463\n",
      "[19]\tvalidation_0-rmse:3.66267\n",
      "[20]\tvalidation_0-rmse:3.65977\n",
      "[21]\tvalidation_0-rmse:3.65651\n",
      "[22]\tvalidation_0-rmse:3.66505\n",
      "[23]\tvalidation_0-rmse:3.66246\n",
      "[24]\tvalidation_0-rmse:3.68230\n",
      "[25]\tvalidation_0-rmse:3.68514\n",
      "[26]\tvalidation_0-rmse:3.68862\n",
      "[27]\tvalidation_0-rmse:3.67826\n",
      "[28]\tvalidation_0-rmse:3.67727\n",
      "[29]\tvalidation_0-rmse:3.67240\n",
      "[30]\tvalidation_0-rmse:3.66935\n"
     ]
    },
    {
     "data": {
      "text/plain": [
       "XGBRegressor(base_score=0.5, booster='gbtree', callbacks=None,\n",
       "             colsample_bylevel=1, colsample_bynode=1, colsample_bytree=1,\n",
       "             early_stopping_rounds=10, enable_categorical=False,\n",
       "             eval_metric=None, feature_types=None, gamma=0, gpu_id=-1,\n",
       "             grow_policy='depthwise', importance_type=None,\n",
       "             interaction_constraints='', learning_rate=0.300000012, max_bin=256,\n",
       "             max_cat_threshold=64, max_cat_to_onehot=4, max_delta_step=0,\n",
       "             max_depth=6, max_leaves=0, min_child_weight=1, missing=nan,\n",
       "             monotone_constraints='()', n_estimators=100, n_jobs=0,\n",
       "             num_parallel_tree=1, predictor='auto', random_state=0, ...)"
      ]
     },
     "execution_count": 108,
     "metadata": {},
     "output_type": "execute_result"
    }
   ],
   "source": [
    "eval_set = [(X_test, y_test)]\n",
    "model.fit(X_train, y_train, eval_set=eval_set, verbose=True)"
   ]
  },
  {
   "cell_type": "code",
   "execution_count": 114,
   "id": "2c9f0048-8901-4f40-8087-f3aa95096048",
   "metadata": {},
   "outputs": [
    {
     "data": {
      "text/plain": [
       "<BarContainer object of 13 artists>"
      ]
     },
     "execution_count": 114,
     "metadata": {},
     "output_type": "execute_result"
    },
    {
     "data": {
      "image/png": "[encoded data removed]",
      "text/plain": [
       "<Figure size 432x288 with 1 Axes>"
      ]
     },
     "metadata": {
      "needs_background": "light"
     },
     "output_type": "display_data"
    }
   ],
   "source": [
    "model.feature_importances_\n",
    "plt.barh(boston.feature_names, model.feature_importances_)"
   ]
  },
  {
   "cell_type": "code",
   "execution_count": null,
   "id": "6132b798-0d04-46c4-963b-7f8e32beaec8",
   "metadata": {},
   "outputs": [],
   "source": []
  }
 ],
 "metadata": {
  "kernelspec": {
   "display_name": "Python 3 (ipykernel)",
   "language": "python",
   "name": "python3"
  },
  "language_info": {
   "codemirror_mode": {
    "name": "ipython",
    "version": 3
   },
   "file_extension": ".py",
   "mimetype": "text/x-python",
   "name": "python",
   "nbconvert_exporter": "python",
   "pygments_lexer": "ipython3",
   "version": "3.9.12"
  }
 },
 "nbformat": 4,
 "nbformat_minor": 5
}
